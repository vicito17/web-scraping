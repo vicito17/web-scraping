{
 "cells": [
  {
   "cell_type": "code",
   "execution_count": 1,
   "metadata": {},
   "outputs": [],
   "source": [
    "from selenium import webdriver\n",
    "from selenium.webdriver.common.by import By\n",
    "from time import sleep\n",
    "from selenium.webdriver.chrome.options import Options\n",
    "from random import random "
   ]
  },
  {
   "cell_type": "code",
   "execution_count": 2,
   "metadata": {},
   "outputs": [],
   "source": [
    "direccion_driver=\"/home/vicentecipre/.wdm/drivers/chromedriver/linux64/78.0.3904.105/chromedriver\"\n",
    "opts = Options()\n",
    "opts.add_argument(\"user-agent=Mozilla/5.0 (X11; Linux x86_64) AppleWebKit/537.36 (KHTML, like Gecko) Ubuntu Chromium/71.0.3578.80 Chrome/71.0.3578.80 Safari/537.36\")"
   ]
  },
  {
   "cell_type": "code",
   "execution_count": 4,
   "metadata": {},
   "outputs": [
    {
     "name": "stderr",
     "output_type": "stream",
     "text": [
      "/home/vicentecipre/miniconda3/envs/prueba/lib/python3.7/site-packages/ipykernel_launcher.py:1: DeprecationWarning: use options instead of chrome_options\n",
      "  \"\"\"Entry point for launching an IPython kernel.\n"
     ]
    },
    {
     "name": "stdout",
     "output_type": "stream",
     "text": [
      "##########\n",
      "#pagina 1#\n",
      "##########\n",
      "13\n",
      "1\n",
      "https://www.idealista.com/inmueble/91095657/ Oficina en calle de Santiago de Compostela, La Paz, Madrid 1.250€/mes 61 m²\n",
      "####################################################################################################\n",
      "2\n",
      "https://www.idealista.com/inmueble/91407990/ Oficina en María de Molina, El Viso, Madrid 23.873€/mes 1.023 m²\n",
      "####################################################################################################\n",
      "3\n",
      "https://www.idealista.com/inmueble/91407863/ Oficina en Dulce Chacón, 55, Virgen del Cortijo - Manoteras, Madrid 20.689€/mes 1.061 m²\n",
      "####################################################################################################\n",
      "4\n",
      "https://www.idealista.com/inmueble/91407822/ Oficina en paseo de Recoletos, Recoletos, Madrid 10.272€/mes 428 m²\n",
      "####################################################################################################\n",
      "5\n",
      "https://www.idealista.com/inmueble/91407831/ Oficina en calle de Alcalá, Jerónimos, Madrid 9.800€/mes 483 m²\n",
      "####################################################################################################\n",
      "6\n",
      "https://www.idealista.com/inmueble/91407828/ Oficina en calle de Alcalá, Jerónimos, Madrid 8.000€/mes 373 m²\n",
      "####################################################################################################\n",
      "7\n",
      "https://www.idealista.com/inmueble/91407805/ Oficina en paseo de la Castellana, Cuzco-Castillejos, Madrid 13.980€/mes 466 m²\n",
      "####################################################################################################\n",
      "8\n",
      "https://www.idealista.com/inmueble/91407807/ Oficina en plaza del Marqués de Salamanca, Castellana, Madrid 17.192€/mes 614 m²\n",
      "####################################################################################################\n",
      "9\n",
      "https://www.idealista.com/inmueble/86875392/ Oficina en calle de García de Paredes, Almagro, Madrid 2.200€/mes 100 m²\n",
      "####################################################################################################\n",
      "10\n",
      "https://www.idealista.com/inmueble/89346501/ Oficina en calle Almagro, Almagro, Madrid 4.500€/mes 185 m²\n",
      "####################################################################################################\n",
      "11\n",
      "https://www.idealista.com/inmueble/87877934/ Oficina en calle de María Tubau, Las Tablas, Madrid 5.962€/mes 530 m²\n",
      "####################################################################################################\n",
      "12\n",
      "https://www.idealista.com/inmueble/87877953/ Oficina en calle de María Tubau, Las Tablas, Madrid 17.100€/mes 1.520 m²\n",
      "####################################################################################################\n",
      "##########\n",
      "#pagina 3#\n",
      "##########\n"
     ]
    },
    {
     "ename": "WebDriverException",
     "evalue": "Message: chrome not reachable\n  (Session info: chrome=78.0.3904.108)\n",
     "output_type": "error",
     "traceback": [
      "\u001b[0;31m---------------------------------------------------------------------------\u001b[0m",
      "\u001b[0;31mWebDriverException\u001b[0m                        Traceback (most recent call last)",
      "\u001b[0;32m<ipython-input-4-6aaf0d388977>\u001b[0m in \u001b[0;36m<module>\u001b[0;34m\u001b[0m\n\u001b[1;32m      7\u001b[0m     \u001b[0mprint\u001b[0m\u001b[0;34m(\u001b[0m\u001b[0;34m\"#pagina \"\u001b[0m\u001b[0;34m+\u001b[0m\u001b[0mstr\u001b[0m\u001b[0;34m(\u001b[0m\u001b[0mpagina\u001b[0m\u001b[0;34m)\u001b[0m\u001b[0;34m+\u001b[0m\u001b[0;34m\"#\"\u001b[0m\u001b[0;34m)\u001b[0m\u001b[0;34m\u001b[0m\u001b[0;34m\u001b[0m\u001b[0m\n\u001b[1;32m      8\u001b[0m     \u001b[0mprint\u001b[0m\u001b[0;34m(\u001b[0m\u001b[0;34m\"#\"\u001b[0m\u001b[0;34m*\u001b[0m\u001b[0;36m10\u001b[0m\u001b[0;34m)\u001b[0m\u001b[0;34m\u001b[0m\u001b[0;34m\u001b[0m\u001b[0m\n\u001b[0;32m----> 9\u001b[0;31m     \u001b[0ml\u001b[0m\u001b[0;34m=\u001b[0m\u001b[0;36m1\u001b[0m\u001b[0;34m+\u001b[0m\u001b[0mlen\u001b[0m\u001b[0;34m(\u001b[0m\u001b[0mdriver\u001b[0m\u001b[0;34m.\u001b[0m\u001b[0mfind_elements\u001b[0m\u001b[0;34m(\u001b[0m\u001b[0mBy\u001b[0m\u001b[0;34m.\u001b[0m\u001b[0mXPATH\u001b[0m\u001b[0;34m,\u001b[0m \u001b[0;34m'//article[@class=\"item item_contains_branding item-multimedia-container\"]'\u001b[0m\u001b[0;34m)\u001b[0m\u001b[0;34m)\u001b[0m\u001b[0;34m\u001b[0m\u001b[0;34m\u001b[0m\u001b[0m\n\u001b[0m\u001b[1;32m     10\u001b[0m     \u001b[0mprint\u001b[0m\u001b[0;34m(\u001b[0m\u001b[0ml\u001b[0m\u001b[0;34m)\u001b[0m\u001b[0;34m\u001b[0m\u001b[0;34m\u001b[0m\u001b[0m\n\u001b[1;32m     11\u001b[0m     \u001b[0;32mfor\u001b[0m \u001b[0mi\u001b[0m \u001b[0;32min\u001b[0m \u001b[0mrange\u001b[0m\u001b[0;34m(\u001b[0m\u001b[0;36m1\u001b[0m\u001b[0;34m,\u001b[0m\u001b[0ml\u001b[0m\u001b[0;34m)\u001b[0m\u001b[0;34m:\u001b[0m\u001b[0;34m\u001b[0m\u001b[0;34m\u001b[0m\u001b[0m\n",
      "\u001b[0;32m~/miniconda3/envs/prueba/lib/python3.7/site-packages/selenium/webdriver/remote/webdriver.py\u001b[0m in \u001b[0;36mfind_elements\u001b[0;34m(self, by, value)\u001b[0m\n\u001b[1;32m   1005\u001b[0m         return self.execute(Command.FIND_ELEMENTS, {\n\u001b[1;32m   1006\u001b[0m             \u001b[0;34m'using'\u001b[0m\u001b[0;34m:\u001b[0m \u001b[0mby\u001b[0m\u001b[0;34m,\u001b[0m\u001b[0;34m\u001b[0m\u001b[0;34m\u001b[0m\u001b[0m\n\u001b[0;32m-> 1007\u001b[0;31m             'value': value})['value'] or []\n\u001b[0m\u001b[1;32m   1008\u001b[0m \u001b[0;34m\u001b[0m\u001b[0m\n\u001b[1;32m   1009\u001b[0m     \u001b[0;34m@\u001b[0m\u001b[0mproperty\u001b[0m\u001b[0;34m\u001b[0m\u001b[0;34m\u001b[0m\u001b[0m\n",
      "\u001b[0;32m~/miniconda3/envs/prueba/lib/python3.7/site-packages/selenium/webdriver/remote/webdriver.py\u001b[0m in \u001b[0;36mexecute\u001b[0;34m(self, driver_command, params)\u001b[0m\n\u001b[1;32m    319\u001b[0m         \u001b[0mresponse\u001b[0m \u001b[0;34m=\u001b[0m \u001b[0mself\u001b[0m\u001b[0;34m.\u001b[0m\u001b[0mcommand_executor\u001b[0m\u001b[0;34m.\u001b[0m\u001b[0mexecute\u001b[0m\u001b[0;34m(\u001b[0m\u001b[0mdriver_command\u001b[0m\u001b[0;34m,\u001b[0m \u001b[0mparams\u001b[0m\u001b[0;34m)\u001b[0m\u001b[0;34m\u001b[0m\u001b[0;34m\u001b[0m\u001b[0m\n\u001b[1;32m    320\u001b[0m         \u001b[0;32mif\u001b[0m \u001b[0mresponse\u001b[0m\u001b[0;34m:\u001b[0m\u001b[0;34m\u001b[0m\u001b[0;34m\u001b[0m\u001b[0m\n\u001b[0;32m--> 321\u001b[0;31m             \u001b[0mself\u001b[0m\u001b[0;34m.\u001b[0m\u001b[0merror_handler\u001b[0m\u001b[0;34m.\u001b[0m\u001b[0mcheck_response\u001b[0m\u001b[0;34m(\u001b[0m\u001b[0mresponse\u001b[0m\u001b[0;34m)\u001b[0m\u001b[0;34m\u001b[0m\u001b[0;34m\u001b[0m\u001b[0m\n\u001b[0m\u001b[1;32m    322\u001b[0m             response['value'] = self._unwrap_value(\n\u001b[1;32m    323\u001b[0m                 response.get('value', None))\n",
      "\u001b[0;32m~/miniconda3/envs/prueba/lib/python3.7/site-packages/selenium/webdriver/remote/errorhandler.py\u001b[0m in \u001b[0;36mcheck_response\u001b[0;34m(self, response)\u001b[0m\n\u001b[1;32m    240\u001b[0m                 \u001b[0malert_text\u001b[0m \u001b[0;34m=\u001b[0m \u001b[0mvalue\u001b[0m\u001b[0;34m[\u001b[0m\u001b[0;34m'alert'\u001b[0m\u001b[0;34m]\u001b[0m\u001b[0;34m.\u001b[0m\u001b[0mget\u001b[0m\u001b[0;34m(\u001b[0m\u001b[0;34m'text'\u001b[0m\u001b[0;34m)\u001b[0m\u001b[0;34m\u001b[0m\u001b[0;34m\u001b[0m\u001b[0m\n\u001b[1;32m    241\u001b[0m             \u001b[0;32mraise\u001b[0m \u001b[0mexception_class\u001b[0m\u001b[0;34m(\u001b[0m\u001b[0mmessage\u001b[0m\u001b[0;34m,\u001b[0m \u001b[0mscreen\u001b[0m\u001b[0;34m,\u001b[0m \u001b[0mstacktrace\u001b[0m\u001b[0;34m,\u001b[0m \u001b[0malert_text\u001b[0m\u001b[0;34m)\u001b[0m\u001b[0;34m\u001b[0m\u001b[0;34m\u001b[0m\u001b[0m\n\u001b[0;32m--> 242\u001b[0;31m         \u001b[0;32mraise\u001b[0m \u001b[0mexception_class\u001b[0m\u001b[0;34m(\u001b[0m\u001b[0mmessage\u001b[0m\u001b[0;34m,\u001b[0m \u001b[0mscreen\u001b[0m\u001b[0;34m,\u001b[0m \u001b[0mstacktrace\u001b[0m\u001b[0;34m)\u001b[0m\u001b[0;34m\u001b[0m\u001b[0;34m\u001b[0m\u001b[0m\n\u001b[0m\u001b[1;32m    243\u001b[0m \u001b[0;34m\u001b[0m\u001b[0m\n\u001b[1;32m    244\u001b[0m     \u001b[0;32mdef\u001b[0m \u001b[0m_value_or_default\u001b[0m\u001b[0;34m(\u001b[0m\u001b[0mself\u001b[0m\u001b[0;34m,\u001b[0m \u001b[0mobj\u001b[0m\u001b[0;34m,\u001b[0m \u001b[0mkey\u001b[0m\u001b[0;34m,\u001b[0m \u001b[0mdefault\u001b[0m\u001b[0;34m)\u001b[0m\u001b[0;34m:\u001b[0m\u001b[0;34m\u001b[0m\u001b[0;34m\u001b[0m\u001b[0m\n",
      "\u001b[0;31mWebDriverException\u001b[0m: Message: chrome not reachable\n  (Session info: chrome=78.0.3904.108)\n"
     ]
    }
   ],
   "source": [
    "driver = webdriver.Chrome(direccion_driver, chrome_options=opts) \n",
    "driver.get('https://www.idealista.com/alquiler-oficinas/madrid-madrid/')\n",
    "direc_bas= r'(//article[@class=\"item item_contains_branding item-multimedia-container\"])'\n",
    "pagina=1\n",
    "while True:\n",
    "    print(\"#\"*10)\n",
    "    print(\"#pagina \"+str(pagina)+\"#\")\n",
    "    print(\"#\"*10)\n",
    "    l=1+len(driver.find_elements(By.XPATH, '//article[@class=\"item item_contains_branding item-multimedia-container\"]'))\n",
    "    print(l)\n",
    "    for i in range(1,l):\n",
    "        print(i)\n",
    "        final= \"[\" + str(i) + \"]\"\n",
    "        link = driver.find_element(By.XPATH, direc_bas + final + r'/div/a').get_attribute(\"href\")\n",
    "        direccion= driver.find_element(By.XPATH, direc_bas + final + r'/div/a' ).text\n",
    "        precio= driver.find_element(By.XPATH, direc_bas + final + r'/div/div[@class=\"row price-row clearfix\"]').text\n",
    "        m_2= driver.find_element(By.XPATH, direc_bas+ final + r'/div/span[@class=\"item-detail\"]').text\n",
    "        print(link,direccion,precio,m_2)\n",
    "        print(\"#\"*100)\n",
    "        sleep(random()*2+15)\n",
    "        \n",
    "    try:\n",
    "        pagina+=1\n",
    "        driver.get(r'https://www.idealista.com/alquiler-oficinas/madrid-madrid/pagina-' + str(pagina) + '.htm')\n",
    "    except:\n",
    "        # Si obtengo un error al intentar darle click al boton, quiere decir que no existe\n",
    "        # Lo cual me indica que ya no puedo seguir paginando, por ende rompo el While\n",
    "        break\n",
    "    sleep(random()*2+5)"
   ]
  },
  {
   "cell_type": "code",
   "execution_count": null,
   "metadata": {},
   "outputs": [],
   "source": []
  }
 ],
 "metadata": {
  "kernelspec": {
   "display_name": "Python 3",
   "language": "python",
   "name": "python3"
  },
  "language_info": {
   "codemirror_mode": {
    "name": "ipython",
    "version": 3
   },
   "file_extension": ".py",
   "mimetype": "text/x-python",
   "name": "python",
   "nbconvert_exporter": "python",
   "pygments_lexer": "ipython3",
   "version": "3.7.4"
  }
 },
 "nbformat": 4,
 "nbformat_minor": 2
}
