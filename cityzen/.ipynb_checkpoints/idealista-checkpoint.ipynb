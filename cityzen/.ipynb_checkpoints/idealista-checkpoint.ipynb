{
 "cells": [
  {
   "cell_type": "code",
   "execution_count": 1,
   "metadata": {},
   "outputs": [],
   "source": [
    "from selenium import webdriver\n",
    "from selenium.webdriver.common.by import By\n",
    "from time import sleep\n",
    "from selenium.webdriver.chrome.options import Options\n",
    "from random import random "
   ]
  },
  {
   "cell_type": "code",
   "execution_count": 2,
   "metadata": {},
   "outputs": [],
   "source": [
    "direccion_driver=\"/home/vicentecipre/.wdm/drivers/chromedriver/linux64/78.0.3904.105/chromedriver\"\n",
    "opts = Options()\n",
    "opts.add_argument(\"user-agent=Mozilla/5.0 (X11; Linux x86_64) AppleWebKit/537.36 (KHTML, like Gecko) Ubuntu Chromium/71.0.3578.80 Chrome/71.0.3578.80 Safari/537.36\")"
   ]
  },
  {
   "cell_type": "code",
   "execution_count": 13,
   "metadata": {},
   "outputs": [
    {
     "name": "stderr",
     "output_type": "stream",
     "text": [
      "/home/vicentecipre/miniconda3/envs/prueba/lib/python3.7/site-packages/ipykernel_launcher.py:1: DeprecationWarning: use options instead of chrome_options\n",
      "  \"\"\"Entry point for launching an IPython kernel.\n"
     ]
    },
    {
     "name": "stdout",
     "output_type": "stream",
     "text": [
      "##########\n",
      "#pagina 1#\n",
      "##########\n",
      "1\n",
      "https://www.idealista.com/inmueble/91397250/ Oficina en calle Arroyo de Valdebebas, 4, Sanchinarro, Madrid 34.102€/mes 2.006 m²\n",
      "####################################################################################################\n",
      "2\n",
      "https://www.idealista.com/inmueble/91399697/ Oficina en plaza del Marqués de Salamanca, Lista, Madrid 6.000€/mes 440 m²\n",
      "####################################################################################################\n",
      "3\n",
      "https://www.idealista.com/inmueble/91399455/ Oficina en Covarrubias, Trafalgar, Madrid 750€/mes 90 m²\n",
      "####################################################################################################\n",
      "4\n",
      "https://www.idealista.com/inmueble/91398389/ Oficina en calle Alonso Heredia, Guindalera, Madrid 1.000€/mes 18 m²\n",
      "####################################################################################################\n",
      "5\n",
      "https://www.idealista.com/inmueble/91397970/ Oficina en Castellana, Cuatro Caminos, Madrid 22.785€/mes 651 m²\n",
      "####################################################################################################\n",
      "##########\n",
      "#pagina 2#\n",
      "##########\n"
     ]
    }
   ],
   "source": [
    "driver = webdriver.Chrome(direccion_driver, chrome_options=opts) \n",
    "driver.get('https://www.idealista.com/alquiler-oficinas/madrid-madrid/')\n",
    "direc_bas= r'(//article[@class=\"item item_contains_branding item-multimedia-container\"])'\n",
    "pagina=1\n",
    "while True:\n",
    "    print(\"#\"*10)\n",
    "    print(\"#pagina \"+str(pagina)+\"#\")\n",
    "    print(\"#\"*10)\n",
    "\n",
    "    for i in range(1,1+len(driver.find_elements(By.XPATH, '//article[@class=\"item item_contains_branding item-multimedia-container\"]'))):\n",
    "        print(i)\n",
    "        final= \"[\" + str(i) + \"]\"\n",
    "        link = driver.find_element(By.XPATH, direc_bas + final + r'/div/a').get_attribute(\"href\")\n",
    "        direccion= driver.find_element(By.XPATH, direc_bas + final + r'/div/a' ).text\n",
    "        precio= driver.find_element(By.XPATH, direc_bas + final + r'/div/div[@class=\"row price-row clearfix\"]').text\n",
    "        m_2= driver.find_element(By.XPATH, direc_bas+ final + r'/div/span[@class=\"item-detail\"]').text\n",
    "        print(link,direccion,precio,m_2)\n",
    "        print(\"#\"*100)\n",
    "        sleep(random()*2+5)\n",
    "        \n",
    "    try:\n",
    "        # Intento obtener el boton de SIGUIENTE y le intento dar click\n",
    "        puedo_seguir_horizontal = driver.find_element(By.XPATH, '//span[text()=\"Siguiente\"]')\n",
    "        puedo_seguir_horizontal.click()\n",
    "    except:\n",
    "        # Si obtengo un error al intentar darle click al boton, quiere decir que no existe\n",
    "        # Lo cual me indica que ya no puedo seguir paginando, por ende rompo el While\n",
    "        break\n",
    "    pagina+=1\n",
    "    sleep(random()*2+5)"
   ]
  }
 ],
 "metadata": {
  "kernelspec": {
   "display_name": "Python 3",
   "language": "python",
   "name": "python3"
  },
  "language_info": {
   "codemirror_mode": {
    "name": "ipython",
    "version": 3
   },
   "file_extension": ".py",
   "mimetype": "text/x-python",
   "name": "python",
   "nbconvert_exporter": "python",
   "pygments_lexer": "ipython3",
   "version": "3.7.4"
  }
 },
 "nbformat": 4,
 "nbformat_minor": 2
}
