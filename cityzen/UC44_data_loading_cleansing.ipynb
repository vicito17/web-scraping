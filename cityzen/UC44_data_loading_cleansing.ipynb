{
 "cells": [
  {
   "cell_type": "markdown",
   "metadata": {},
   "source": [
    "# Integración de datos de fuentes en formato .csv"
   ]
  },
  {
   "cell_type": "code",
   "execution_count": 3,
   "metadata": {},
   "outputs": [],
   "source": [
    "import csv\n",
    "import urllib.request\n",
    "import pandas as pd\n",
    "import numpy as np"
   ]
  },
  {
   "cell_type": "markdown",
   "metadata": {},
   "source": [
    "### Creamos una función para descargar los ficheros csv desde la URL de orígen y guardarlas en local"
   ]
  },
  {
   "cell_type": "code",
   "execution_count": 25,
   "metadata": {},
   "outputs": [],
   "source": [
    "def download_files(url, filename):\n",
    "    r = requests.get(url, stream=True, headers={'User-agent': 'Mozilla/5.0'})\n",
    "    if r.status_code == 200:\n",
    "        with open(filename, 'wb') as f:\n",
    "            r.raw.decode_content = True\n",
    "            shutil.copyfileobj(r.raw, f)"
   ]
  },
  {
   "cell_type": "code",
   "execution_count": 26,
   "metadata": {},
   "outputs": [],
   "source": [
    "download_files('https://datos.madrid.es/egob/catalogo/208844-0-monumentos-edificios.csv', 'monumentos.csv')\n",
    "download_files('https://datos.madrid.es/egob/catalogo/201132-0-museos.csv', 'museos.csv')\n",
    "download_files('https://datos.madrid.es/egob/catalogo/200761-0-parques-jardines.csv', 'parques.csv')\n",
    "download_files('https://datos.madrid.es/egob/catalogo/208862-7650046-ocio_salas.csv', 'teatro.csv')\n",
    "download_files('https://datos.madrid.es/egob/catalogo/208862-7650164-ocio_salas.csv', 'cines.csv')\n",
    "download_files('https://datos.madrid.es/egob/catalogo/208862-7650180-ocio_salas.csv', 'conciertos.csv')\n",
    "download_files('https://datos.madrid.es/egob/catalogo/202105-0-mercadillos.csv', 'mercadillos.csv')\n",
    "download_files('https://datos.madrid.es/egob/catalogo/206974-0-agenda-eventos-culturales-100.csv', 'eventos_100d.csv')"
   ]
  },
  {
   "cell_type": "code",
   "execution_count": 34,
   "metadata": {},
   "outputs": [],
   "source": [
    "download_files('https://datos.madrid.es/egob/catalogo/200761-0-parques-jardines.csv', 'parques.csv')"
   ]
  },
  {
   "cell_type": "markdown",
   "metadata": {},
   "source": [
    "### Creamos una función para transformar en dataframes los ficheros csv\n",
    "Queremos pasar a dataframes los csv guardados en local y mostrar el nombre de las columnas. Así podremos ver que columnas son compartidas entre todos."
   ]
  },
  {
   "cell_type": "code",
   "execution_count": 140,
   "metadata": {},
   "outputs": [],
   "source": [
    "def csv_to_df(filename):\n",
    "    dataframe = pd.read_csv(filename, sep=';', encoding='ansi')\n",
    "    return(dataframe.columns.values)"
   ]
  },
  {
   "cell_type": "code",
   "execution_count": 141,
   "metadata": {},
   "outputs": [
    {
     "data": {
      "text/plain": [
       "array(['PK', 'NOMBRE', 'DESCRIPCION-ENTIDAD', 'HORARIO', 'EQUIPAMIENTO',\n",
       "       'TRANSPORTE', 'DESCRIPCION', 'ACCESIBILIDAD', 'CONTENT-URL',\n",
       "       'NOMBRE-VIA', 'CLASE-VIAL', 'TIPO-NUM', 'NUM', 'PLANTA', 'PUERTA',\n",
       "       'ESCALERAS', 'ORIENTACION', 'LOCALIDAD', 'PROVINCIA',\n",
       "       'CODIGO-POSTAL', 'BARRIO', 'DISTRITO', 'COORDENADA-X',\n",
       "       'COORDENADA-Y', 'LATITUD', 'LONGITUD', 'TELEFONO', 'FAX', 'EMAIL',\n",
       "       'TIPO', 'Unnamed: 30'], dtype=object)"
      ]
     },
     "execution_count": 141,
     "metadata": {},
     "output_type": "execute_result"
    }
   ],
   "source": [
    "csv_to_df('museos.csv')"
   ]
  },
  {
   "cell_type": "code",
   "execution_count": 143,
   "metadata": {},
   "outputs": [
    {
     "data": {
      "text/plain": [
       "array(['PK', 'NOMBRE', 'DESCRIPCION-ENTIDAD', 'HORARIO', 'EQUIPAMIENTO',\n",
       "       'TRANSPORTE', 'DESCRIPCION', 'ACCESIBILIDAD', 'CONTENT-URL',\n",
       "       'NOMBRE-VIA', 'CLASE-VIAL', 'TIPO-NUM', 'NUM', 'PLANTA', 'PUERTA',\n",
       "       'ESCALERAS', 'ORIENTACION', 'LOCALIDAD', 'PROVINCIA',\n",
       "       'CODIGO-POSTAL', 'BARRIO', 'DISTRITO', 'COORDENADA-X',\n",
       "       'COORDENADA-Y', 'LATITUD', 'LONGITUD', 'TELEFONO', 'FAX', 'EMAIL',\n",
       "       'TIPO', 'Unnamed: 30'], dtype=object)"
      ]
     },
     "execution_count": 143,
     "metadata": {},
     "output_type": "execute_result"
    }
   ],
   "source": [
    "csv_to_df('parques.csv')"
   ]
  },
  {
   "cell_type": "code",
   "execution_count": 144,
   "metadata": {},
   "outputs": [
    {
     "data": {
      "text/plain": [
       "array(['PK', 'NOMBRE', 'DESCRIPCION-ENTIDAD', 'HORARIO', 'EQUIPAMIENTO',\n",
       "       'TRANSPORTE', 'DESCRIPCION', 'ACCESIBILIDAD', 'CONTENT-URL',\n",
       "       'NOMBRE-VIA', 'CLASE-VIAL', 'TIPO-NUM', 'NUM', 'PLANTA', 'PUERTA',\n",
       "       'ESCALERAS', 'ORIENTACION', 'LOCALIDAD', 'PROVINCIA',\n",
       "       'CODIGO-POSTAL', 'BARRIO', 'DISTRITO', 'COORDENADA-X',\n",
       "       'COORDENADA-Y', 'LATITUD', 'LONGITUD', 'TELEFONO', 'FAX', 'EMAIL',\n",
       "       'TIPO', 'Unnamed: 30'], dtype=object)"
      ]
     },
     "execution_count": 144,
     "metadata": {},
     "output_type": "execute_result"
    }
   ],
   "source": [
    "csv_to_df('teatro.csv')"
   ]
  },
  {
   "cell_type": "code",
   "execution_count": 145,
   "metadata": {},
   "outputs": [
    {
     "data": {
      "text/plain": [
       "array(['PK', 'NOMBRE', 'DESCRIPCION-ENTIDAD', 'HORARIO', 'EQUIPAMIENTO',\n",
       "       'TRANSPORTE', 'DESCRIPCION', 'ACCESIBILIDAD', 'CONTENT-URL',\n",
       "       'NOMBRE-VIA', 'CLASE-VIAL', 'TIPO-NUM', 'NUM', 'PLANTA', 'PUERTA',\n",
       "       'ESCALERAS', 'ORIENTACION', 'LOCALIDAD', 'PROVINCIA',\n",
       "       'CODIGO-POSTAL', 'BARRIO', 'DISTRITO', 'COORDENADA-X',\n",
       "       'COORDENADA-Y', 'LATITUD', 'LONGITUD', 'TELEFONO', 'FAX', 'EMAIL',\n",
       "       'TIPO', 'Unnamed: 30'], dtype=object)"
      ]
     },
     "execution_count": 145,
     "metadata": {},
     "output_type": "execute_result"
    }
   ],
   "source": [
    "csv_to_df('cines.csv')"
   ]
  },
  {
   "cell_type": "code",
   "execution_count": 146,
   "metadata": {},
   "outputs": [
    {
     "data": {
      "text/plain": [
       "array(['PK', 'NOMBRE', 'DESCRIPCION-ENTIDAD', 'HORARIO', 'EQUIPAMIENTO',\n",
       "       'TRANSPORTE', 'DESCRIPCION', 'ACCESIBILIDAD', 'CONTENT-URL',\n",
       "       'NOMBRE-VIA', 'CLASE-VIAL', 'TIPO-NUM', 'NUM', 'PLANTA', 'PUERTA',\n",
       "       'ESCALERAS', 'ORIENTACION', 'LOCALIDAD', 'PROVINCIA',\n",
       "       'CODIGO-POSTAL', 'BARRIO', 'DISTRITO', 'COORDENADA-X',\n",
       "       'COORDENADA-Y', 'LATITUD', 'LONGITUD', 'TELEFONO', 'FAX', 'EMAIL',\n",
       "       'TIPO', 'Unnamed: 30'], dtype=object)"
      ]
     },
     "execution_count": 146,
     "metadata": {},
     "output_type": "execute_result"
    }
   ],
   "source": [
    "csv_to_df('conciertos.csv')"
   ]
  },
  {
   "cell_type": "code",
   "execution_count": 147,
   "metadata": {
    "scrolled": true
   },
   "outputs": [
    {
     "data": {
      "text/plain": [
       "array(['PK', 'NOMBRE', 'DESCRIPCION-ENTIDAD', 'HORARIO', 'EQUIPAMIENTO',\n",
       "       'TRANSPORTE', 'DESCRIPCION', 'ACCESIBILIDAD', 'CONTENT-URL',\n",
       "       'NOMBRE-VIA', 'CLASE-VIAL', 'TIPO-NUM', 'NUM', 'PLANTA', 'PUERTA',\n",
       "       'ESCALERAS', 'ORIENTACION', 'LOCALIDAD', 'PROVINCIA',\n",
       "       'CODIGO-POSTAL', 'BARRIO', 'DISTRITO', 'COORDENADA-X',\n",
       "       'COORDENADA-Y', 'LATITUD', 'LONGITUD', 'TELEFONO', 'FAX', 'EMAIL',\n",
       "       'TIPO', 'Unnamed: 30'], dtype=object)"
      ]
     },
     "execution_count": 147,
     "metadata": {},
     "output_type": "execute_result"
    }
   ],
   "source": [
    "csv_to_df('mercadillos.csv')"
   ]
  },
  {
   "cell_type": "code",
   "execution_count": 148,
   "metadata": {},
   "outputs": [
    {
     "data": {
      "text/plain": [
       "array([' ID-EVENTO', 'TITULO', 'PRECIO', 'GRATUITO', 'LARGA-DURACION',\n",
       "       'DIAS-SEMANA', 'DIAS-EXCLUIDOS', 'FECHA', 'FECHA-FIN', 'HORA',\n",
       "       'DESCRIPCION', 'CONTENT-URL', 'TITULO-ACTIVIDAD', 'URL-ACTIVIDAD',\n",
       "       'URL-INSTALACION', 'NOMBRE-INSTALACION',\n",
       "       'ACCESIBILIDAD-INSTALACION', 'CLASE-VIAL-INSTALACION',\n",
       "       'NOMBRE-VIA-INSTALACION', 'NUM-INSTALACION',\n",
       "       'DISTRITO-INSTALACION', 'BARRIO-INSTALACION',\n",
       "       'CODIGO-POSTAL-INSTALACION', 'COORDENADA-X', 'COORDENADA-Y',\n",
       "       'LATITUD', 'LONGITUD', 'TIPO', 'AUDIENCIA', 'Unnamed: 29'],\n",
       "      dtype=object)"
      ]
     },
     "execution_count": 148,
     "metadata": {},
     "output_type": "execute_result"
    }
   ],
   "source": [
    "csv_to_df('eventos_100d.csv')"
   ]
  },
  {
   "cell_type": "code",
   "execution_count": 149,
   "metadata": {},
   "outputs": [
    {
     "data": {
      "text/plain": [
       "array(['PK', 'NOMBRE', 'PDF', 'CONTENT-URL', 'NOMBRE-VIA', 'CLASE-VIAL',\n",
       "       'TIPO-NUM', 'NUM', 'PLANTA', 'PUERTA', 'ESCALERAS', 'ORIENTACION',\n",
       "       'LOCALIDAD', 'PROVINCIA', 'CODIGO-POSTAL', 'BARRIO', 'DISTRITO',\n",
       "       'COORDENADA-X', 'COORDENADA-Y', 'LATITUD', 'LONGITUD', 'TELEFONO',\n",
       "       'FAX', 'EMAIL', 'TIPO', 'Unnamed: 25'], dtype=object)"
      ]
     },
     "execution_count": 149,
     "metadata": {},
     "output_type": "execute_result"
    }
   ],
   "source": [
    "csv_to_df('monumentos.csv')"
   ]
  },
  {
   "cell_type": "markdown",
   "metadata": {},
   "source": [
    "**=> Podemos constatar que todos los csv tienen la misma estructura de campos, excepto el fichero de eventos y el de monumentos**\n",
    "\n",
    "### Creamos una función para obtener el porcentaje de valores nulos en cada columna"
   ]
  },
  {
   "cell_type": "code",
   "execution_count": 30,
   "metadata": {},
   "outputs": [],
   "source": [
    "def null_vls(filename):\n",
    "    dataframe = pd.read_csv(filename, sep=';', encoding='ansi')\n",
    "    null_cols = dataframe.columns[dataframe.isnull().any()]\n",
    "    null_count = dataframe[null_cols].isnull().sum()\n",
    "    tot_count = dataframe.shape[0]\n",
    "    null_pct = (null_count/tot_count).sort_values(ascending=False)\n",
    "    return(100*null_pct)"
   ]
  },
  {
   "cell_type": "code",
   "execution_count": 31,
   "metadata": {},
   "outputs": [
    {
     "data": {
      "text/plain": [
       "ESCALERAS              100.000000\n",
       "PUERTA                 100.000000\n",
       "PLANTA                  97.101449\n",
       "ORIENTACION             92.753623\n",
       "FAX                     82.608696\n",
       "DESCRIPCION             82.608696\n",
       "EQUIPAMIENTO            69.565217\n",
       "EMAIL                   31.884058\n",
       "DESCRIPCION-ENTIDAD     28.985507\n",
       "TELEFONO                 8.695652\n",
       "TRANSPORTE               4.347826\n",
       "HORARIO                  2.898551\n",
       "LONGITUD                 1.449275\n",
       "LATITUD                  1.449275\n",
       "COORDENADA-Y             1.449275\n",
       "COORDENADA-X             1.449275\n",
       "dtype: float64"
      ]
     },
     "execution_count": 31,
     "metadata": {},
     "output_type": "execute_result"
    }
   ],
   "source": [
    "null_vls('museos.csv')"
   ]
  },
  {
   "cell_type": "code",
   "execution_count": 35,
   "metadata": {},
   "outputs": [
    {
     "data": {
      "text/plain": [
       "FAX                    100.000000\n",
       "PLANTA                 100.000000\n",
       "ESCALERAS              100.000000\n",
       "EMAIL                   99.014778\n",
       "ORIENTACION             97.536946\n",
       "TELEFONO                97.536946\n",
       "PUERTA                  95.566502\n",
       "HORARIO                 85.221675\n",
       "EQUIPAMIENTO            25.123153\n",
       "TIPO                     9.852217\n",
       "BARRIO                   2.955665\n",
       "NUM                      2.955665\n",
       "COORDENADA-X             2.463054\n",
       "COORDENADA-Y             2.463054\n",
       "LATITUD                  2.463054\n",
       "LONGITUD                 2.463054\n",
       "CODIGO-POSTAL            1.970443\n",
       "DESCRIPCION              1.970443\n",
       "TRANSPORTE               1.970443\n",
       "TIPO-NUM                 0.492611\n",
       "DESCRIPCION-ENTIDAD      0.492611\n",
       "dtype: float64"
      ]
     },
     "execution_count": 35,
     "metadata": {},
     "output_type": "execute_result"
    }
   ],
   "source": [
    "null_vls('parques.csv')"
   ]
  },
  {
   "cell_type": "code",
   "execution_count": 33,
   "metadata": {},
   "outputs": [
    {
     "data": {
      "text/plain": [
       "ESCALERAS              100.000000\n",
       "PUERTA                  98.958333\n",
       "ORIENTACION             96.875000\n",
       "HORARIO                 96.875000\n",
       "PLANTA                  94.791667\n",
       "DESCRIPCION             94.791667\n",
       "EQUIPAMIENTO            93.750000\n",
       "FAX                     86.458333\n",
       "DESCRIPCION-ENTIDAD     36.458333\n",
       "EMAIL                   10.416667\n",
       "TELEFONO                 5.208333\n",
       "dtype: float64"
      ]
     },
     "execution_count": 33,
     "metadata": {},
     "output_type": "execute_result"
    }
   ],
   "source": [
    "null_vls('teatro.csv')"
   ]
  },
  {
   "cell_type": "code",
   "execution_count": 36,
   "metadata": {},
   "outputs": [
    {
     "data": {
      "text/plain": [
       "FAX                    100.000000\n",
       "ESCALERAS              100.000000\n",
       "PUERTA                 100.000000\n",
       "PLANTA                 100.000000\n",
       "EMAIL                   97.142857\n",
       "EQUIPAMIENTO            97.142857\n",
       "HORARIO                 94.285714\n",
       "DESCRIPCION-ENTIDAD     94.285714\n",
       "DESCRIPCION             91.428571\n",
       "ORIENTACION             88.571429\n",
       "TELEFONO                14.285714\n",
       "TRANSPORTE               2.857143\n",
       "dtype: float64"
      ]
     },
     "execution_count": 36,
     "metadata": {},
     "output_type": "execute_result"
    }
   ],
   "source": [
    "null_vls('cines.csv')"
   ]
  },
  {
   "cell_type": "code",
   "execution_count": 37,
   "metadata": {},
   "outputs": [
    {
     "data": {
      "text/plain": [
       "ESCALERAS              100.000000\n",
       "PUERTA                 100.000000\n",
       "PLANTA                 100.000000\n",
       "FAX                     96.103896\n",
       "DESCRIPCION             94.805195\n",
       "HORARIO                 93.506494\n",
       "EQUIPAMIENTO            90.909091\n",
       "ORIENTACION             88.311688\n",
       "EMAIL                   77.922078\n",
       "DESCRIPCION-ENTIDAD     63.636364\n",
       "TELEFONO                50.649351\n",
       "NUM                      1.298701\n",
       "dtype: float64"
      ]
     },
     "execution_count": 37,
     "metadata": {},
     "output_type": "execute_result"
    }
   ],
   "source": [
    "null_vls('conciertos.csv')"
   ]
  },
  {
   "cell_type": "code",
   "execution_count": 38,
   "metadata": {},
   "outputs": [
    {
     "data": {
      "text/plain": [
       "EMAIL                  100.000000\n",
       "FAX                    100.000000\n",
       "TELEFONO               100.000000\n",
       "ESCALERAS              100.000000\n",
       "PUERTA                 100.000000\n",
       "PLANTA                 100.000000\n",
       "DESCRIPCION-ENTIDAD    100.000000\n",
       "DESCRIPCION             96.296296\n",
       "ORIENTACION             88.888889\n",
       "EQUIPAMIENTO            62.962963\n",
       "NUM                     14.814815\n",
       "TRANSPORTE               3.703704\n",
       "HORARIO                  3.703704\n",
       "dtype: float64"
      ]
     },
     "execution_count": 38,
     "metadata": {},
     "output_type": "execute_result"
    }
   ],
   "source": [
    "null_vls('mercadillos.csv')"
   ]
  },
  {
   "cell_type": "code",
   "execution_count": 39,
   "metadata": {},
   "outputs": [
    {
     "data": {
      "text/plain": [
       "Unnamed: 29                  100.000000\n",
       "DIAS-EXCLUIDOS                94.100719\n",
       "PRECIO                        90.503597\n",
       "DIAS-SEMANA                   69.784173\n",
       "AUDIENCIA                     67.338129\n",
       "DESCRIPCION                   51.798561\n",
       "TITULO-ACTIVIDAD              48.920863\n",
       "URL-ACTIVIDAD                 48.920863\n",
       "HORA                          30.215827\n",
       "LONGITUD                      11.798561\n",
       "COORDENADA-Y                  11.798561\n",
       "COORDENADA-X                  11.798561\n",
       "LATITUD                       11.798561\n",
       "URL-INSTALACION               11.654676\n",
       "ACCESIBILIDAD-INSTALACION     11.654676\n",
       "NOMBRE-INSTALACION            11.654676\n",
       "CLASE-VIAL-INSTALACION        11.654676\n",
       "NUM-INSTALACION               11.654676\n",
       "DISTRITO-INSTALACION          11.654676\n",
       "BARRIO-INSTALACION            11.654676\n",
       "CODIGO-POSTAL-INSTALACION     11.654676\n",
       "NOMBRE-VIA-INSTALACION        11.654676\n",
       "TIPO                           3.597122\n",
       "dtype: float64"
      ]
     },
     "execution_count": 39,
     "metadata": {},
     "output_type": "execute_result"
    }
   ],
   "source": [
    "null_vls('eventos_100d.csv')"
   ]
  },
  {
   "cell_type": "code",
   "execution_count": 40,
   "metadata": {},
   "outputs": [
    {
     "data": {
      "text/plain": [
       "TIPO             100.000000\n",
       "EMAIL            100.000000\n",
       "FAX              100.000000\n",
       "TELEFONO         100.000000\n",
       "ORIENTACION      100.000000\n",
       "ESCALERAS        100.000000\n",
       "PUERTA           100.000000\n",
       "PLANTA           100.000000\n",
       "CODIGO-POSTAL     20.833333\n",
       "NUM               10.648148\n",
       "BARRIO             2.777778\n",
       "LONGITUD           0.925926\n",
       "LATITUD            0.925926\n",
       "COORDENADA-Y       0.462963\n",
       "COORDENADA-X       0.462963\n",
       "dtype: float64"
      ]
     },
     "execution_count": 40,
     "metadata": {},
     "output_type": "execute_result"
    }
   ],
   "source": [
    "null_vls('monumentos.csv')"
   ]
  },
  {
   "cell_type": "markdown",
   "metadata": {},
   "source": [
    "### Constataciones\n",
    "Debido a las diferencias en la estructura de los ficheros, distinguiremos entre 3 categorías de ficheros csv:\n",
    "- Genérico, compartido para los datos de museos, parques, teatro, cines, conciertos y mercadillos\n",
    "- Específico de monumentos\n",
    "- Específico de eventos\n",
    "\n",
    "#### CSV genérico\n",
    "Tras este análisis de valores nulos, vemos que en todos los ficheros existe una serie de campos que están prácticamente siempre vacíos. Estos campos son los siguientes:\n",
    "- ESCALERAS\n",
    "- FAX\n",
    "- EMAIL\n",
    "- ORIENTACION\n",
    "- EQUIPAMIENTO\n",
    "- PUERTA\n",
    "- PLANTA\n",
    "- HORARIO\n",
    "- DESCRIPCION\n",
    "\n",
    "Bajando al detalle del contenido de los campos se decide que se puede prescindir de los 5 primeros, y mantener los campos PUERTA, PLANTA, HORARIO y DESCRIPCION, cuya información aunque escasa podría ser relevante. En un futuro se podrá descartar estos campos si se aprecia que esta infrmación no es explotada.\n",
    "\n",
    "\n",
    "Tras realizar los contratos de interfaz de las distintas fuentes y analizar los ficheros apreciamos que:\n",
    "- Existen campos dummy que llevan el nombre que empiezan por 'Unnamed:'\n",
    "- La coordenada x de geolocalización se encuentra tanto como 'COORDENADA-X' como 'LONGITUD', siendo esta última más usual\n",
    "- La coordenada y de geolocalización se encuentra tanto como 'COORDENADA-Y' como 'LATITUD', siendo esta última más usual\n",
    "- El campo 'PK' no resulta útil, identifica una clave en otro sistema\n",
    "- El campo 'TIPO-NUM' no resulta útil\n",
    "- El campo 'ACCESIBILIDAD' no resulta útil, desconocemos su contenido\n",
    "- El campo 'ORIENTACION' no resulta útil, desconocemos su contenido\n",
    "\n",
    "#### CSV de monumentos\n",
    "Tras el análisis de valores nulos, vemos que en el fichero existe una serie de campos que están prácticamente siempre vacíos. Estos campos son los siguientes:\n",
    "- ESCALERAS\n",
    "- FAX\n",
    "- EMAIL\n",
    "- ORIENTACION\n",
    "- TIPO\n",
    "- PUERTA\n",
    "- PLANTA\n",
    "- TELEFONO\n",
    "\n",
    "Al igual que en el caso del csv genérico, se decide prescindir de la mayoría, y mantener los campos PUERTA y PLANTA, cuya información podría ser relevante en caso de venir informada.\n",
    "\n",
    "\n",
    "\n",
    "#### CSV de eventos\n",
    "Tras el análisis de valores nulos, vemos que en el fichero existe una serie de campos que están prácticamente siempre vacíos. Estos campos son los siguientes:\n",
    "- ID-EVENTO no resulta útil, identifica una clave en otro sistema\n",
    "- DIAS-EXCLUIDOS no resulta útil ya que está muy poco alimentado\n",
    "- PRECIO no resulta útil ya que está muy poco alimentado\n",
    "- TITULO-ACTIVIDAD no resulta útil\n",
    "- URL-ACTIVIDAD no resulta útil\n",
    "- URL-INSTALACION no resulta útil\n",
    "- NOMBRE-INSTALACION no resulta útil\n",
    "- ACCESIBILIDAD-INSTALACION no resulta útil\n",
    "- La coordenada x de geolocalización se encuentra tanto como 'COORDENADA-X' como 'LONGITUD', siendo esta última más usual\n",
    "- La coordenada y de geolocalización se encuentra tanto como 'COORDENADA-Y' como 'LATITUD', siendo esta última más usual\n",
    "- DIAS-SEMANA\n",
    "\n",
    "En este caso, se decide prescindir de todos estos campos, y mantener el campo DIAS-SEMANA, cuya información podría ser relevante en caso de venir informada."
   ]
  },
  {
   "cell_type": "markdown",
   "metadata": {},
   "source": [
    "# Generación de los dataframes específicos\n",
    "Con las peculiaridades detectadas en las etapas de análisis de las fuentes de datos podemos customizar los dataframes resultantes. Nos basaremos en las observaciones realizadas de los datos que obtenemos de los distintos orígenes para decidir que columnas mantenemos y cuales descartamos."
   ]
  },
  {
   "cell_type": "code",
   "execution_count": 29,
   "metadata": {},
   "outputs": [],
   "source": [
    "dic={}\n",
    "dic[\"&amp;\"]=  \"&\"\n",
    "dic[\"&#65;\"]=  \"A\"\n",
    "dic[\"&#66;\"]=  \"B\"\n",
    "dic[\"&#67;\"]=  \"C\"\n",
    "dic[\"&#68;\"]=  \"D\"\n",
    "dic[\"&#69;\"]=  \"E\"\n",
    "dic[\"&#70;\"]=  \"F\"\n",
    "dic[\"&#71;\"]=  \"G\"\n",
    "dic[\"&#72;\"]=  \"H\"\n",
    "dic[\"&#73;\"]=  \"I\"\n",
    "dic[\"&#74;\"]=  \"J\"\n",
    "dic[\"&#75;\"]=  \"K\"\n",
    "dic[\"&#76;\"]=  \"L\"\n",
    "dic[\"&#77;\"]=  \"M\"\n",
    "dic[\"&#78;\"]=  \"N\"\n",
    "dic[\"&#79;\"]=  \"O\"\n",
    "dic[\"&#80;\"]=  \"P\"\n",
    "dic[\"&#81;\"]=  \"Q\"\n",
    "dic[\"&#82;\"]=  \"R\"\n",
    "dic[\"&#83;\"]=  \"S\"\n",
    "dic[\"&#84;\"]=  \"T\"\n",
    "dic[\"&#85;\"]=  \"U\"\n",
    "dic[\"&#86;\"]=  \"V\"\n",
    "dic[\"&#87;\"]=  \"W\"\n",
    "dic[\"&#88;\"]=  \"X\"\n",
    "dic[\"&#89;\"]=  \"Y\"\n",
    "dic[\"&#90;\"]=  \"Z\"\n",
    "dic[\"&#97;\"]=  \"a\"\n",
    "dic[\"&#98;\"]=  \"b\"\n",
    "dic[\"&#99;\"]=  \"c\"\n",
    "dic[\"&#100;\"]=  \"d\"\n",
    "dic[\"&#101;\"]=  \"e\"\n",
    "dic[\"&#102;\"]=  \"f\"\n",
    "dic[\"&#103;\"]=  \"g\"\n",
    "dic[\"&#104;\"]=  \"h\"\n",
    "dic[\"&#105;\"]=  \"i\"\n",
    "dic[\"&#106;\"]=  \"j\"\n",
    "dic[\"&#107;\"]=  \"k\"\n",
    "dic[\"&#108;\"]=  \"l\"\n",
    "dic[\"&#109;\"]=  \"m\"\n",
    "dic[\"&#110;\"]=  \"n\"\n",
    "dic[\"&#111;\"]=  \"o\"\n",
    "dic[\"&#112;\"]=  \"p\"\n",
    "dic[\"&#113;\"]=  \"q\"\n",
    "dic[\"&#114;\"]=  \"r\"\n",
    "dic[\"&#115;\"]=  \"s\"\n",
    "dic[\"&#116;\"]=  \"t\"\n",
    "dic[\"&#117;\"]=  \"u\"\n",
    "dic[\"&#118;\"]=  \"v\"\n",
    "dic[\"&#119;\"]=  \"w\"\n",
    "dic[\"&#120;\"]=  \"x\"\n",
    "dic[\"&#121;\"]=  \"y\"\n",
    "dic[\"&#122;\"]=  \"z\"\n",
    "dic[\"&Agrave;\"]=  \"À\"\n",
    "dic[\"&Aacute;\"]=  \"Á\"\n",
    "dic[\"&Acirc;\"]=  \"Â\"\n",
    "dic[\"&Atilde;\"]=  \"Ã\"\n",
    "dic[\"&Auml;\"]=  \"Ä\"\n",
    "dic[\"&Aring;\"]=  \"Å\"\n",
    "dic[\"&AElig;\"]=  \"Æ\"\n",
    "dic[\"&Ccedil;\"]=  \"Ç\"\n",
    "dic[\"&Egrave;\"]=  \"È\"\n",
    "dic[\"&Eacute;\"]=  \"É\"\n",
    "dic[\"&Ecirc;\"]=  \"Ê\"\n",
    "dic[\"&Euml;\"]=  \"Ë\"\n",
    "dic[\"&Igrave;\"]=  \"Ì\"\n",
    "dic[\"&Iacute;\"]=  \"Í\"\n",
    "dic[\"&Icirc;\"]=  \"Î\"\n",
    "dic[\"&Iuml;\"]=  \"Ï\"\n",
    "dic[\"&ETH;\"]=  \"Ð\"\n",
    "dic[\"&Ntilde;\"]=  \"Ñ\"\n",
    "dic[\"&ntilde;\"]=  \"ñ\"\n",
    "dic[\"&Ograve;\"]=  \"Ò\"\n",
    "dic[\"&Oacute;\"]=  \"Ó\"\n",
    "dic[\"&oacute;\"]=  \"ó\"\n",
    "dic[\"&Ocirc;\"]=  \"Ô\"\n",
    "dic[\"&Otilde;\"]=  \"Õ\"\n",
    "dic[\"&Ouml;\"]=  \"Ö\"\n",
    "dic[\"&Oslash;\"]=  \"Ø\"\n",
    "dic[\"&Ugrave;\"]=  \"Ù\"\n",
    "dic[\"&Uacute;\"]=  \"Ú\"\n",
    "dic[\"&uacute;\"]=  \"ú\"\n",
    "dic[\"&Ucirc;\"]=  \"Û\"\n",
    "dic[\"&Uuml;\"]=  \"Ü\"\n",
    "dic[\"&uuml;\"]=  \"ü\"\n",
    "dic[\"&Yacute;\"]=  \"Ý\"\n",
    "dic[\"&THORN;\"]=  \"Þ\"\n",
    "dic[\"&szlig;\"]=  \"ß\"\n",
    "dic[\"&agrave;\"]=  \"à\"\n",
    "dic[\"&aacute;\"]=  \"á\"\n",
    "dic[\"&acirc;\"]=  \"â\"\n",
    "dic[\"&atilde;\"]=  \"ã\"\n",
    "dic[\"&auml;\"]=  \"ä\"\n",
    "dic[\"&aring;\"]=  \"å\"\n",
    "dic[\"&aelig;\"]=  \"æ\"\n",
    "dic[\"&ccedil;\"]=  \"ç\"\n",
    "dic[\"&egrave;\"]=  \"è\"\n",
    "dic[\"&eacute;\"]=  \"é\"\n",
    "dic[\"&ecirc;\"]=  \"ê\"\n",
    "dic[\"&euml;\"]=  \"ë\"\n",
    "dic[\"&igrave;\"]=  \"ì\"\n",
    "dic[\"&iacute;\"]=  \"í\"\n",
    "dic[\"&icirc;\"]=  \"î\"\n",
    "dic[\"&iuml;\"]=  \"ï\"\n",
    "dic[\"&eth;\"]=  \"ð\"\n",
    "dic[\"&laquo;\"]=\"«\"\n",
    "dic[\"&raquo;\"]=\"»\"\n",
    "dic[\"&lsquo;\"]=\"‘\"\n",
    "dic[\"&rsquo;\"]=\"’\"\n",
    "dic[\"&sbquo;\"]=\"‚\"\n",
    "dic[\"&ldquo;\"]=\"“\"\n",
    "dic[\"&rdquo;\"]=\"”\" \n",
    "dic[\"&bdquo;\"]=\"„\"\n",
    "dic[\"&lsaquo;\"]=\"‹\"\n",
    "dic[\"&rsaquo;\"]=\"›\"\n",
    "dic[\"&#5065;\"]=\"Ꮙ\"\n",
    "dic[\"&#8219;\"]=\"‛\"\n",
    "dic[\"&#8223;\"]=\"‟\"\n",
    "dic[\"&#9048;\"]=\"⍘\"\n",
    "dic[\"&#9054;\"]=\"⍞\"\n",
    "dic[\"&#10075;\"]=\"❛\"\n",
    "dic[\"&#10076;\"]=\"❜\"\n",
    "dic[\"&#10077;\"]=\"❝\"\n",
    "dic[\"&#10078;\"]=\"❞\"\n",
    "dic[\"&#10094;\"]=\"❮\"\n",
    "dic[\"&#10095;\"]=\"❯\"\n",
    "dic[\"&#12317;\"]=\"〝\"\n",
    "dic[\"&#12318;\"]=\"〞\"\n",
    "dic[\"&#12319;\"]=\"〟\"\n",
    "dic[\"&#65282;\"]=\"＂\""
   ]
  },
  {
   "cell_type": "code",
   "execution_count": 41,
   "metadata": {},
   "outputs": [],
   "source": [
    "def clean_string(string):\n",
    "    for i in dic.keys():\n",
    "        string=string.replace(i,dic[i])\n",
    "    return(string)\n",
    "\n",
    "\n",
    "def csv_to_df_generic(filename):\n",
    "    dataframe = pd.read_csv(filename, sep=';', encoding='ansi')\n",
    "    # eliminar columnas vacías o no explotables\n",
    "    dataframe = dataframe.drop(columns=['PK','ESCALERAS','ORIENTACION','FAX','EMAIL','DESCRIPCION','EQUIPAMIENTO','ACCESIBILIDAD','TIPO-NUM','Unnamed: 30','PLANTA','PUERTA','COORDENADA-X', 'COORDENADA-Y'])\n",
    "    # alimentar los valores ausentes del campo TIPO con la moda del campo\n",
    "    dataframe['TIPO'].fillna(dataframe['TIPO'].mode()[0], inplace=True)\n",
    "    # quedarse con la última parte del campo TIPO, tras el último /\n",
    "    for i in range(0, len(dataframe)):\n",
    "        var=dataframe['TIPO'].iloc[i].rfind('/')+1\n",
    "        dataframe['TIPO'].iloc[i] = dataframe['TIPO'].iloc[i][var:]\n",
    "    # alimentar los valores ausentes del campo CODIGO-POSTAL con un valor por defecto\n",
    "    dataframe['CODIGO-POSTAL'] = dataframe['CODIGO-POSTAL'].fillna('Desconocido')\n",
    "    # alimentar valores nulos de columna CODIGO-POSTAL con un valor por defecto\n",
    "    dataframe['DESCRIPCION-ENTIDAD'] = dataframe['DESCRIPCION-ENTIDAD'].fillna('Descripción no disponible')\n",
    "    # alimentar valores nulos de columna NUM con un valor por defecto\n",
    "    dataframe['NUM'] = dataframe['NUM'].fillna('S/N')\n",
    "    # limpiar los strings para eliminar cadenas de unicode\n",
    "    dataframe['DESCRIPCION-ENTIDAD']=dataframe['DESCRIPCION-ENTIDAD'].apply(lambda x: clean_string(x))\n",
    "        #dataframe['DIRECCION']=dataframe['CLASE-VIAL'] + ' ' + dataframe['NOMBRE-VIA'] + ' ' + dataframe['NUM'].astype(str)\n",
    "    #dataframe['LATITUD']=dataframe['LATITUD'].apply(lambda x: str(x).replace(\",\",\".\"))\n",
    "    #dataframe['LONGITUD']=dataframe['LONGITUD'].apply(lambda x: str(x).replace(\",\",\".\"))\n",
    "    return(dataframe)\n",
    "\n",
    "def csv_to_df_eventos(filename):\n",
    "    dataframe = pd.read_csv(filename, sep=';', encoding='ansi')\n",
    "    # eliminar columnas vacías o no explotables\n",
    "    dataframe = dataframe.drop(columns=[' ID-EVENTO','PRECIO','DIAS-EXCLUIDOS','TITULO-ACTIVIDAD','URL-ACTIVIDAD','URL-INSTALACION', 'NOMBRE-INSTALACION', 'ACCESIBILIDAD-INSTALACION','COORDENADA-X','COORDENADA-Y','Unnamed: 29'])\n",
    "    # alimentar valores nulos de columna NUM-INSTALACION con un valor por defecto\n",
    "    dataframe['NUM-INSTALACION'] = dataframe['NUM-INSTALACION'].fillna('S/N')\n",
    "    # alimentar valores nulos de columna CODIGO-POSTAL con un valor por defecto\n",
    "    dataframe['CODIGO-POSTAL-INSTALACION'] = dataframe['CODIGO-POSTAL-INSTALACION'].fillna('Desconocido')\n",
    "    # alimentar los valores ausentes del campo TIPO con un valor por defecto\n",
    "    dataframe['TIPO'].fillna('/Evento no categorizado', inplace=True)\n",
    "    # alimentar valores nulos de columna NOMBRE-VIA-INSTALACION con un valor por defecto\n",
    "    dataframe['NOMBRE-VIA-INSTALACION'] = dataframe['NOMBRE-VIA-INSTALACION'].fillna('Desconocido')\n",
    "    # limpiar los strings para eliminar cadenas de unicode\n",
    "    dataframe['NOMBRE-VIA-INSTALACION']=dataframe['NOMBRE-VIA-INSTALACION'].apply(lambda x: clean_string(x))\n",
    "    # limpiar los campos fecha para eliminar la componente hora\n",
    "    for i in range(0, len(dataframe)):\n",
    "        dataframe['FECHA'].iloc[i] = dataframe['FECHA'].iloc[i][:10]\n",
    "        dataframe['FECHA-FIN'].iloc[i] = dataframe['FECHA-FIN'].iloc[i][:10]\n",
    "    # convertir los campos fecha a formato fecha\n",
    "    dataframe['FECHA']= pd.to_datetime(dataframe['FECHA'])\n",
    "    dataframe['FECHA-FIN']= pd.to_datetime(dataframe['FECHA-FIN'])\n",
    "    # quedarse con la última parte del campo TIPO, tras el último /\n",
    "    for i in range(0, len(dataframe)):\n",
    "        var=dataframe['TIPO'].iloc[i].rfind('/')+1\n",
    "        dataframe['TIPO'].iloc[i] = dataframe['TIPO'].iloc[i][var:]\n",
    "    # alimentar valores nulos de columna AUDIENCIA con un valor por defecto\n",
    "    dataframe['AUDIENCIA'] = dataframe['AUDIENCIA'].fillna('Público general')\n",
    "    # quedarse con la última parte del campo AUDIENCIA, tras el último /\n",
    "    for i in range(0, len(dataframe)):\n",
    "        var=dataframe['AUDIENCIA'].iloc[i].rfind('/')+1\n",
    "        dataframe['AUDIENCIA'].iloc[i] = dataframe['AUDIENCIA'].iloc[i][var:]\n",
    "    return(dataframe)\n",
    "    \n",
    "def csv_to_df_monumentos(filename):\n",
    "    dataframe = pd.read_csv(filename, sep=';', encoding='ansi')\n",
    "    # eliminar columnas vacías o no explotables\n",
    "    dataframe = dataframe.drop(columns=['PK','ESCALERAS','ORIENTACION','FAX','EMAIL','TELEFONO','TIPO-NUM','COORDENADA-X','COORDENADA-Y','Unnamed: 25'])\n",
    "    # alimentar la columna TIPO con un valor por defecto\n",
    "    dataframe['TIPO']=dataframe['TIPO'].fillna('Monumentos')\n",
    "    # alimentar valores nulos de columna CODIGO-POSTAL con un valor por defecto\n",
    "    dataframe['CODIGO-POSTAL'] = dataframe['CODIGO-POSTAL'].fillna('Desconocido')\n",
    "    # limpiar los strings para eliminar cadenas de unicode\n",
    "    dataframe['NOMBRE']=dataframe['NOMBRE'].apply(lambda x: clean_string(x))\n",
    "    # reemplazar el separador decimal de punto a coma en los campos LATITUD y LONGITUD\n",
    "    dataframe['LATITUD']=dataframe['LATITUD'].apply(lambda x: round(x,6))\n",
    "    dataframe['LONGITUD']=dataframe['LONGITUD'].apply(lambda x: round(x,6))\n",
    "    return(dataframe)\n",
    "    \n",
    "def df(filename):\n",
    "    var=filename[0:-4]\n",
    "    if var=='monumentos':\n",
    "        globals()[\"df_\"+str(var)]=csv_to_df_monumentos(filename)\n",
    "    elif var=='eventos_100d':\n",
    "        globals()[\"df_\"+str(var)]=csv_to_df_eventos(filename)\n",
    "    else:\n",
    "        globals()[\"df_\"+str(var)]=csv_to_df_generic(filename)"
   ]
  },
  {
   "cell_type": "code",
   "execution_count": 241,
   "metadata": {},
   "outputs": [],
   "source": [
    "cuidado al integrarlo, puede dar problemas con los PK decimales, primero redondear\n",
    "df_museos = df_museos.astype({'NUM': np.int64})\n",
    "\n",
    "reemplazar PK por una PK propia: nombre || fecha para eventos\n",
    "pos=0\n",
    "col_name='ID'\n",
    "ID=df_eventos_100d['TITULO']+df_eventos_100d['FECHA'].astype('string')+df_eventos_100d['FECHA-FIN'].astype('string')\n",
    "df_eventos_100d.insert(pos, col_name, ID)\n",
    "\n",
    "y después duplicar los duplicados que pueda haber\n",
    "df_eventos_100d.drop_duplicates(subset='ID', keep='first', inplace=True)"
   ]
  },
  {
   "cell_type": "code",
   "execution_count": null,
   "metadata": {},
   "outputs": [],
   "source": [
    "coordenadas gps, redondeadas a 6 decimales"
   ]
  },
  {
   "cell_type": "code",
   "execution_count": 48,
   "metadata": {},
   "outputs": [
    {
     "name": "stderr",
     "output_type": "stream",
     "text": [
      "C:\\Users\\carlos.ibanez\\anaconda3\\lib\\site-packages\\pandas\\core\\indexing.py:671: SettingWithCopyWarning: \n",
      "A value is trying to be set on a copy of a slice from a DataFrame\n",
      "\n",
      "See the caveats in the documentation: https://pandas.pydata.org/pandas-docs/stable/user_guide/indexing.html#returning-a-view-versus-a-copy\n",
      "  self._setitem_with_indexer(indexer, value)\n"
     ]
    }
   ],
   "source": [
    "df('monumentos.csv')\n",
    "df('museos.csv')\n",
    "df('parques.csv')\n",
    "df('teatro.csv')\n",
    "df('cines.csv')\n",
    "df('conciertos.csv')\n",
    "df('mercadillos.csv')\n",
    "df('eventos_100d.csv')"
   ]
  },
  {
   "cell_type": "code",
   "execution_count": 45,
   "metadata": {},
   "outputs": [
    {
     "data": {
      "text/html": [
       "<div>\n",
       "<style scoped>\n",
       "    .dataframe tbody tr th:only-of-type {\n",
       "        vertical-align: middle;\n",
       "    }\n",
       "\n",
       "    .dataframe tbody tr th {\n",
       "        vertical-align: top;\n",
       "    }\n",
       "\n",
       "    .dataframe thead th {\n",
       "        text-align: right;\n",
       "    }\n",
       "</style>\n",
       "<table border=\"1\" class=\"dataframe\">\n",
       "  <thead>\n",
       "    <tr style=\"text-align: right;\">\n",
       "      <th></th>\n",
       "      <th>NOMBRE</th>\n",
       "      <th>PDF</th>\n",
       "      <th>CONTENT-URL</th>\n",
       "      <th>NOMBRE-VIA</th>\n",
       "      <th>CLASE-VIAL</th>\n",
       "      <th>NUM</th>\n",
       "      <th>PLANTA</th>\n",
       "      <th>PUERTA</th>\n",
       "      <th>LOCALIDAD</th>\n",
       "      <th>PROVINCIA</th>\n",
       "      <th>CODIGO-POSTAL</th>\n",
       "      <th>BARRIO</th>\n",
       "      <th>DISTRITO</th>\n",
       "      <th>LATITUD</th>\n",
       "      <th>LONGITUD</th>\n",
       "      <th>TIPO</th>\n",
       "    </tr>\n",
       "  </thead>\n",
       "  <tbody>\n",
       "    <tr>\n",
       "      <th>0</th>\n",
       "      <td>Almacenes Rodríguez</td>\n",
       "      <td>https://patrimonioypaisaje.madrid.es/FrameWork...</td>\n",
       "      <td>https://patrimonioypaisaje.madrid.es/sites/v/i...</td>\n",
       "      <td>CABALLERO DE GRACIA</td>\n",
       "      <td>Calle</td>\n",
       "      <td>3</td>\n",
       "      <td>NaN</td>\n",
       "      <td>NaN</td>\n",
       "      <td>MADRID</td>\n",
       "      <td>MADRID</td>\n",
       "      <td>28013</td>\n",
       "      <td>SOL</td>\n",
       "      <td>CENTRO</td>\n",
       "      <td>40.419716</td>\n",
       "      <td>-3.700924</td>\n",
       "      <td>Monumentos</td>\n",
       "    </tr>\n",
       "  </tbody>\n",
       "</table>\n",
       "</div>"
      ],
      "text/plain": [
       "                NOMBRE                                                PDF  \\\n",
       "0  Almacenes Rodríguez  https://patrimonioypaisaje.madrid.es/FrameWork...   \n",
       "\n",
       "                                         CONTENT-URL           NOMBRE-VIA  \\\n",
       "0  https://patrimonioypaisaje.madrid.es/sites/v/i...  CABALLERO DE GRACIA   \n",
       "\n",
       "  CLASE-VIAL NUM  PLANTA  PUERTA LOCALIDAD PROVINCIA CODIGO-POSTAL BARRIO  \\\n",
       "0      Calle   3     NaN     NaN    MADRID    MADRID         28013    SOL   \n",
       "\n",
       "  DISTRITO    LATITUD  LONGITUD        TIPO  \n",
       "0   CENTRO  40.419716 -3.700924  Monumentos  "
      ]
     },
     "execution_count": 45,
     "metadata": {},
     "output_type": "execute_result"
    }
   ],
   "source": [
    "df_monumentos.head(1)"
   ]
  },
  {
   "cell_type": "code",
   "execution_count": 49,
   "metadata": {},
   "outputs": [
    {
     "data": {
      "text/html": [
       "<div>\n",
       "<style scoped>\n",
       "    .dataframe tbody tr th:only-of-type {\n",
       "        vertical-align: middle;\n",
       "    }\n",
       "\n",
       "    .dataframe tbody tr th {\n",
       "        vertical-align: top;\n",
       "    }\n",
       "\n",
       "    .dataframe thead th {\n",
       "        text-align: right;\n",
       "    }\n",
       "</style>\n",
       "<table border=\"1\" class=\"dataframe\">\n",
       "  <thead>\n",
       "    <tr style=\"text-align: right;\">\n",
       "      <th></th>\n",
       "      <th>NOMBRE</th>\n",
       "      <th>DESCRIPCION-ENTIDAD</th>\n",
       "      <th>HORARIO</th>\n",
       "      <th>TRANSPORTE</th>\n",
       "      <th>CONTENT-URL</th>\n",
       "      <th>NOMBRE-VIA</th>\n",
       "      <th>CLASE-VIAL</th>\n",
       "      <th>NUM</th>\n",
       "      <th>LOCALIDAD</th>\n",
       "      <th>PROVINCIA</th>\n",
       "      <th>CODIGO-POSTAL</th>\n",
       "      <th>BARRIO</th>\n",
       "      <th>DISTRITO</th>\n",
       "      <th>LATITUD</th>\n",
       "      <th>LONGITUD</th>\n",
       "      <th>TELEFONO</th>\n",
       "      <th>TIPO</th>\n",
       "    </tr>\n",
       "  </thead>\n",
       "  <tbody>\n",
       "    <tr>\n",
       "      <th>0</th>\n",
       "      <td>Casa Museo Lope de Vega</td>\n",
       "      <td>'Mi casilla, mi quietud, mi güertecillo y estu...</td>\n",
       "      <td>De martes a domingo de 10 a 18 horas Cerrado l...</td>\n",
       "      <td>Metro: Antón Martín (línea 1).Bus: M1Bicimad:E...</td>\n",
       "      <td>http://www.madrid.es/sites/v/index.jsp?vgnextc...</td>\n",
       "      <td>CERVANTES</td>\n",
       "      <td>CALLE</td>\n",
       "      <td>11.0</td>\n",
       "      <td>MADRID</td>\n",
       "      <td>MADRID</td>\n",
       "      <td>28014</td>\n",
       "      <td>CORTES</td>\n",
       "      <td>CENTRO</td>\n",
       "      <td>40.414358</td>\n",
       "      <td>-3.697474</td>\n",
       "      <td>914 299 216</td>\n",
       "      <td>Museos</td>\n",
       "    </tr>\n",
       "  </tbody>\n",
       "</table>\n",
       "</div>"
      ],
      "text/plain": [
       "                    NOMBRE                                DESCRIPCION-ENTIDAD  \\\n",
       "0  Casa Museo Lope de Vega  'Mi casilla, mi quietud, mi güertecillo y estu...   \n",
       "\n",
       "                                             HORARIO  \\\n",
       "0  De martes a domingo de 10 a 18 horas Cerrado l...   \n",
       "\n",
       "                                          TRANSPORTE  \\\n",
       "0  Metro: Antón Martín (línea 1).Bus: M1Bicimad:E...   \n",
       "\n",
       "                                         CONTENT-URL NOMBRE-VIA CLASE-VIAL  \\\n",
       "0  http://www.madrid.es/sites/v/index.jsp?vgnextc...  CERVANTES      CALLE   \n",
       "\n",
       "    NUM LOCALIDAD PROVINCIA  CODIGO-POSTAL  BARRIO DISTRITO    LATITUD  \\\n",
       "0  11.0    MADRID    MADRID          28014  CORTES   CENTRO  40.414358   \n",
       "\n",
       "   LONGITUD     TELEFONO    TIPO  \n",
       "0 -3.697474  914 299 216  Museos  "
      ]
     },
     "execution_count": 49,
     "metadata": {},
     "output_type": "execute_result"
    }
   ],
   "source": [
    "df_museos.head(1)"
   ]
  },
  {
   "cell_type": "code",
   "execution_count": 50,
   "metadata": {},
   "outputs": [],
   "source": [
    "df_monumentos.to_csv('set_monumentos.csv', sep=';', index=False)\n",
    "df_monumentos.to_csv('set_museos.csv', sep=';', index=False)\n",
    "df_monumentos.to_csv('set_parques.csv', sep=';', index=False)\n",
    "df_monumentos.to_csv('set_teatro.csv', sep=';', index=False)\n",
    "df_monumentos.to_csv('set_cines.csv', sep=';', index=False)\n",
    "df_monumentos.to_csv('set_conciertos.csv', sep=';', index=False)\n",
    "df_monumentos.to_csv('set_mercadillos.csv', sep=';', index=False)\n",
    "df_monumentos.to_csv('set_eventos_100d.csv', sep=';', index=False)"
   ]
  },
  {
   "cell_type": "code",
   "execution_count": null,
   "metadata": {},
   "outputs": [],
   "source": []
  },
  {
   "cell_type": "code",
   "execution_count": null,
   "metadata": {},
   "outputs": [],
   "source": []
  },
  {
   "cell_type": "code",
   "execution_count": null,
   "metadata": {},
   "outputs": [],
   "source": []
  },
  {
   "cell_type": "code",
   "execution_count": null,
   "metadata": {},
   "outputs": [],
   "source": []
  },
  {
   "cell_type": "code",
   "execution_count": 579,
   "metadata": {},
   "outputs": [
    {
     "data": {
      "text/html": [
       "<div>\n",
       "<style scoped>\n",
       "    .dataframe tbody tr th:only-of-type {\n",
       "        vertical-align: middle;\n",
       "    }\n",
       "\n",
       "    .dataframe tbody tr th {\n",
       "        vertical-align: top;\n",
       "    }\n",
       "\n",
       "    .dataframe thead th {\n",
       "        text-align: right;\n",
       "    }\n",
       "</style>\n",
       "<table border=\"1\" class=\"dataframe\">\n",
       "  <thead>\n",
       "    <tr style=\"text-align: right;\">\n",
       "      <th></th>\n",
       "      <th>link</th>\n",
       "      <th>titulo</th>\n",
       "      <th>precio</th>\n",
       "      <th>precio_ant</th>\n",
       "      <th>descripcion</th>\n",
       "      <th>duracion</th>\n",
       "      <th>fechas_evento</th>\n",
       "      <th>nota_media</th>\n",
       "      <th>num_opiniones</th>\n",
       "      <th>categoria</th>\n",
       "      <th>subcategoria</th>\n",
       "      <th>direccion</th>\n",
       "      <th>zzlocalidad</th>\n",
       "    </tr>\n",
       "  </thead>\n",
       "  <tbody>\n",
       "    <tr>\n",
       "      <th>0</th>\n",
       "      <td>[https://www.atrapalo.com/actividades/entrada-...</td>\n",
       "      <td>[Entrada a Safari Madrid: una aventura salvaje...</td>\n",
       "      <td>[13,60€]</td>\n",
       "      <td>[15€]</td>\n",
       "      <td>[&lt;div class=\"descCorta relative lim-text-esp\"&gt;...</td>\n",
       "      <td>[1 jornada\\n    ]</td>\n",
       "      <td>[\\n                                           ...</td>\n",
       "      <td>[\\n                    8.7\\n                ]</td>\n",
       "      <td>[ 384]</td>\n",
       "      <td>[Actividades Infantiles]</td>\n",
       "      <td>[Actividades Con Animales]</td>\n",
       "      <td>[\\n                Carretera M-507, km 22. Ald...</td>\n",
       "      <td>[Madrid]</td>\n",
       "    </tr>\n",
       "    <tr>\n",
       "      <th>1</th>\n",
       "      <td>[https://www.atrapalo.com/actividades/tu-prime...</td>\n",
       "      <td>[Tu primer vuelo deportivo, ¡pilotarás el avión!]</td>\n",
       "      <td>[55€]</td>\n",
       "      <td>[105€]</td>\n",
       "      <td>[&lt;div class=\"descCorta relative lim-text-esp\"&gt;...</td>\n",
       "      <td>[según opción escogida\\n    ]</td>\n",
       "      <td>[\\n                                           ...</td>\n",
       "      <td>[\\n                    9.7\\n                ]</td>\n",
       "      <td>[ 124]</td>\n",
       "      <td>[Deportes Y Aventuras]</td>\n",
       "      <td>[Vuelos En Helicóptero Y Avioneta]</td>\n",
       "      <td>[\\n                Carretera cm-4003, km 15,5....</td>\n",
       "      <td>[Madrid Provincia]</td>\n",
       "    </tr>\n",
       "    <tr>\n",
       "      <th>2</th>\n",
       "      <td>[https://www.atrapalo.com/actividades/spa-ilim...</td>\n",
       "      <td>[Spa ilimitado y brunch para dos en Las Rejas]</td>\n",
       "      <td>[23,97€]</td>\n",
       "      <td>[48€]</td>\n",
       "      <td>[&lt;div class=\"descCorta relative lim-text-esp\"&gt;...</td>\n",
       "      <td>NaN</td>\n",
       "      <td>[\\n                                           ...</td>\n",
       "      <td>[\\n                    8.2\\n                ]</td>\n",
       "      <td>[ 168]</td>\n",
       "      <td>[Bienestar]</td>\n",
       "      <td>[Spas Con Gastronomía]</td>\n",
       "      <td>[\\n                C/ Isaac Albeniz, 18\\n     ...</td>\n",
       "      <td>[Madrid]</td>\n",
       "    </tr>\n",
       "    <tr>\n",
       "      <th>3</th>\n",
       "      <td>[https://www.atrapalo.com/actividades/masaje-a...</td>\n",
       "      <td>[Masaje a elegir individual o en pareja]</td>\n",
       "      <td>[17,50€]</td>\n",
       "      <td>[35€]</td>\n",
       "      <td>[&lt;div class=\"descCorta relative lim-text-esp\"&gt;...</td>\n",
       "      <td>[45 minutos\\n    ]</td>\n",
       "      <td>[\\n                                           ...</td>\n",
       "      <td>[\\n                    8.7\\n                ]</td>\n",
       "      <td>[ 87]</td>\n",
       "      <td>[Bienestar]</td>\n",
       "      <td>[Masajes Relajantes]</td>\n",
       "      <td>[\\n                Calle Preciados 11. 3º f \\n...</td>\n",
       "      <td>[Madrid Provincia]</td>\n",
       "    </tr>\n",
       "    <tr>\n",
       "      <th>4</th>\n",
       "      <td>[https://www.atrapalo.com/actividades/baoba-me...</td>\n",
       "      <td>NaN</td>\n",
       "      <td>NaN</td>\n",
       "      <td>NaN</td>\n",
       "      <td>NaN</td>\n",
       "      <td>NaN</td>\n",
       "      <td>NaN</td>\n",
       "      <td>NaN</td>\n",
       "      <td>NaN</td>\n",
       "      <td>NaN</td>\n",
       "      <td>NaN</td>\n",
       "      <td>NaN</td>\n",
       "      <td>NaN</td>\n",
       "    </tr>\n",
       "    <tr>\n",
       "      <th>...</th>\n",
       "      <td>...</td>\n",
       "      <td>...</td>\n",
       "      <td>...</td>\n",
       "      <td>...</td>\n",
       "      <td>...</td>\n",
       "      <td>...</td>\n",
       "      <td>...</td>\n",
       "      <td>...</td>\n",
       "      <td>...</td>\n",
       "      <td>...</td>\n",
       "      <td>...</td>\n",
       "      <td>...</td>\n",
       "      <td>...</td>\n",
       "    </tr>\n",
       "    <tr>\n",
       "      <th>102</th>\n",
       "      <td>[https://www.atrapalo.com/actividades/vuelo-en...</td>\n",
       "      <td>[Vuelo en parapente en alta montaña]</td>\n",
       "      <td>[85€]</td>\n",
       "      <td>[89€]</td>\n",
       "      <td>[&lt;div class=\"descCorta relative lim-text-esp\"&gt;...</td>\n",
       "      <td>[2 horas\\n    ]</td>\n",
       "      <td>[\\n                                           ...</td>\n",
       "      <td>[\\n                    10\\n                ]</td>\n",
       "      <td>[ 1]</td>\n",
       "      <td>[Deportes Y Aventuras]</td>\n",
       "      <td>[Parapente]</td>\n",
       "      <td>[\\n                A concretar con el proveedo...</td>\n",
       "      <td>[Madrid Provincia]</td>\n",
       "    </tr>\n",
       "    <tr>\n",
       "      <th>103</th>\n",
       "      <td>[https://www.atrapalo.com/actividades/escuela-...</td>\n",
       "      <td>NaN</td>\n",
       "      <td>NaN</td>\n",
       "      <td>NaN</td>\n",
       "      <td>NaN</td>\n",
       "      <td>NaN</td>\n",
       "      <td>NaN</td>\n",
       "      <td>NaN</td>\n",
       "      <td>NaN</td>\n",
       "      <td>NaN</td>\n",
       "      <td>NaN</td>\n",
       "      <td>NaN</td>\n",
       "      <td>NaN</td>\n",
       "    </tr>\n",
       "    <tr>\n",
       "      <th>104</th>\n",
       "      <td>[https://www.atrapalo.com/actividades/ruta-a-c...</td>\n",
       "      <td>[Ruta a Caballo en Finca Paraíso]</td>\n",
       "      <td>[13€]</td>\n",
       "      <td>[15€]</td>\n",
       "      <td>[&lt;div class=\"descCorta relative lim-text-esp\"&gt;...</td>\n",
       "      <td>NaN</td>\n",
       "      <td>[\\n                                           ...</td>\n",
       "      <td>[\\n                    8.7\\n                ]</td>\n",
       "      <td>[ 3]</td>\n",
       "      <td>[Deportes Y Aventuras]</td>\n",
       "      <td>[Montar A Caballo]</td>\n",
       "      <td>[\\n                Carr. al VRSU de Colmenar V...</td>\n",
       "      <td>[Madrid]</td>\n",
       "    </tr>\n",
       "    <tr>\n",
       "      <th>105</th>\n",
       "      <td>[https://www.atrapalo.com/actividades/hipica-e...</td>\n",
       "      <td>NaN</td>\n",
       "      <td>NaN</td>\n",
       "      <td>NaN</td>\n",
       "      <td>NaN</td>\n",
       "      <td>NaN</td>\n",
       "      <td>NaN</td>\n",
       "      <td>NaN</td>\n",
       "      <td>NaN</td>\n",
       "      <td>NaN</td>\n",
       "      <td>NaN</td>\n",
       "      <td>NaN</td>\n",
       "      <td>NaN</td>\n",
       "    </tr>\n",
       "    <tr>\n",
       "      <th>106</th>\n",
       "      <td>[https://www.atrapalo.com/actividades/cocinas-...</td>\n",
       "      <td>[Cocinas del mundo: japonesa, peruana, vietnam...</td>\n",
       "      <td>[53€]</td>\n",
       "      <td>[55€]</td>\n",
       "      <td>[&lt;div class=\"descCorta relative lim-text-esp\"&gt;...</td>\n",
       "      <td>[2 horas y 30 minutos\\n    ]</td>\n",
       "      <td>[\\n                                           ...</td>\n",
       "      <td>[\\n                    7.8\\n                ]</td>\n",
       "      <td>[ 3]</td>\n",
       "      <td>[Cursos]</td>\n",
       "      <td>[Cursos De Cocina]</td>\n",
       "      <td>[\\n                C/ Farmacia, 6\\n           ...</td>\n",
       "      <td>[Madrid Provincia]</td>\n",
       "    </tr>\n",
       "  </tbody>\n",
       "</table>\n",
       "<p>107 rows × 13 columns</p>\n",
       "</div>"
      ],
      "text/plain": [
       "                                                  link  \\\n",
       "0    [https://www.atrapalo.com/actividades/entrada-...   \n",
       "1    [https://www.atrapalo.com/actividades/tu-prime...   \n",
       "2    [https://www.atrapalo.com/actividades/spa-ilim...   \n",
       "3    [https://www.atrapalo.com/actividades/masaje-a...   \n",
       "4    [https://www.atrapalo.com/actividades/baoba-me...   \n",
       "..                                                 ...   \n",
       "102  [https://www.atrapalo.com/actividades/vuelo-en...   \n",
       "103  [https://www.atrapalo.com/actividades/escuela-...   \n",
       "104  [https://www.atrapalo.com/actividades/ruta-a-c...   \n",
       "105  [https://www.atrapalo.com/actividades/hipica-e...   \n",
       "106  [https://www.atrapalo.com/actividades/cocinas-...   \n",
       "\n",
       "                                                titulo    precio precio_ant  \\\n",
       "0    [Entrada a Safari Madrid: una aventura salvaje...  [13,60€]      [15€]   \n",
       "1    [Tu primer vuelo deportivo, ¡pilotarás el avión!]     [55€]     [105€]   \n",
       "2       [Spa ilimitado y brunch para dos en Las Rejas]  [23,97€]      [48€]   \n",
       "3             [Masaje a elegir individual o en pareja]  [17,50€]      [35€]   \n",
       "4                                                  NaN       NaN        NaN   \n",
       "..                                                 ...       ...        ...   \n",
       "102               [Vuelo en parapente en alta montaña]     [85€]      [89€]   \n",
       "103                                                NaN       NaN        NaN   \n",
       "104                  [Ruta a Caballo en Finca Paraíso]     [13€]      [15€]   \n",
       "105                                                NaN       NaN        NaN   \n",
       "106  [Cocinas del mundo: japonesa, peruana, vietnam...     [53€]      [55€]   \n",
       "\n",
       "                                           descripcion  \\\n",
       "0    [<div class=\"descCorta relative lim-text-esp\">...   \n",
       "1    [<div class=\"descCorta relative lim-text-esp\">...   \n",
       "2    [<div class=\"descCorta relative lim-text-esp\">...   \n",
       "3    [<div class=\"descCorta relative lim-text-esp\">...   \n",
       "4                                                  NaN   \n",
       "..                                                 ...   \n",
       "102  [<div class=\"descCorta relative lim-text-esp\">...   \n",
       "103                                                NaN   \n",
       "104  [<div class=\"descCorta relative lim-text-esp\">...   \n",
       "105                                                NaN   \n",
       "106  [<div class=\"descCorta relative lim-text-esp\">...   \n",
       "\n",
       "                          duracion  \\\n",
       "0                [1 jornada\\n    ]   \n",
       "1    [según opción escogida\\n    ]   \n",
       "2                              NaN   \n",
       "3               [45 minutos\\n    ]   \n",
       "4                              NaN   \n",
       "..                             ...   \n",
       "102                [2 horas\\n    ]   \n",
       "103                            NaN   \n",
       "104                            NaN   \n",
       "105                            NaN   \n",
       "106   [2 horas y 30 minutos\\n    ]   \n",
       "\n",
       "                                         fechas_evento  \\\n",
       "0    [\\n                                           ...   \n",
       "1    [\\n                                           ...   \n",
       "2    [\\n                                           ...   \n",
       "3    [\\n                                           ...   \n",
       "4                                                  NaN   \n",
       "..                                                 ...   \n",
       "102  [\\n                                           ...   \n",
       "103                                                NaN   \n",
       "104  [\\n                                           ...   \n",
       "105                                                NaN   \n",
       "106  [\\n                                           ...   \n",
       "\n",
       "                                        nota_media num_opiniones  \\\n",
       "0    [\\n                    8.7\\n                ]        [ 384]   \n",
       "1    [\\n                    9.7\\n                ]        [ 124]   \n",
       "2    [\\n                    8.2\\n                ]        [ 168]   \n",
       "3    [\\n                    8.7\\n                ]         [ 87]   \n",
       "4                                              NaN           NaN   \n",
       "..                                             ...           ...   \n",
       "102   [\\n                    10\\n                ]          [ 1]   \n",
       "103                                            NaN           NaN   \n",
       "104  [\\n                    8.7\\n                ]          [ 3]   \n",
       "105                                            NaN           NaN   \n",
       "106  [\\n                    7.8\\n                ]          [ 3]   \n",
       "\n",
       "                    categoria                        subcategoria  \\\n",
       "0    [Actividades Infantiles]          [Actividades Con Animales]   \n",
       "1      [Deportes Y Aventuras]  [Vuelos En Helicóptero Y Avioneta]   \n",
       "2                 [Bienestar]              [Spas Con Gastronomía]   \n",
       "3                 [Bienestar]                [Masajes Relajantes]   \n",
       "4                         NaN                                 NaN   \n",
       "..                        ...                                 ...   \n",
       "102    [Deportes Y Aventuras]                         [Parapente]   \n",
       "103                       NaN                                 NaN   \n",
       "104    [Deportes Y Aventuras]                  [Montar A Caballo]   \n",
       "105                       NaN                                 NaN   \n",
       "106                  [Cursos]                  [Cursos De Cocina]   \n",
       "\n",
       "                                             direccion         zzlocalidad  \n",
       "0    [\\n                Carretera M-507, km 22. Ald...            [Madrid]  \n",
       "1    [\\n                Carretera cm-4003, km 15,5....  [Madrid Provincia]  \n",
       "2    [\\n                C/ Isaac Albeniz, 18\\n     ...            [Madrid]  \n",
       "3    [\\n                Calle Preciados 11. 3º f \\n...  [Madrid Provincia]  \n",
       "4                                                  NaN                 NaN  \n",
       "..                                                 ...                 ...  \n",
       "102  [\\n                A concretar con el proveedo...  [Madrid Provincia]  \n",
       "103                                                NaN                 NaN  \n",
       "104  [\\n                Carr. al VRSU de Colmenar V...            [Madrid]  \n",
       "105                                                NaN                 NaN  \n",
       "106  [\\n                C/ Farmacia, 6\\n           ...  [Madrid Provincia]  \n",
       "\n",
       "[107 rows x 13 columns]"
      ]
     },
     "execution_count": 579,
     "metadata": {},
     "output_type": "execute_result"
    }
   ],
   "source": [
    "pd.read_json(r'C:/Users/carlos.ibanez/Downloads/atrapalo.json', orient='split')"
   ]
  },
  {
   "cell_type": "code",
   "execution_count": 649,
   "metadata": {},
   "outputs": [],
   "source": []
  },
  {
   "cell_type": "code",
   "execution_count": 653,
   "metadata": {},
   "outputs": [],
   "source": []
  },
  {
   "cell_type": "code",
   "execution_count": 659,
   "metadata": {},
   "outputs": [],
   "source": []
  },
  {
   "cell_type": "code",
   "execution_count": 661,
   "metadata": {},
   "outputs": [],
   "source": []
  },
  {
   "cell_type": "code",
   "execution_count": 665,
   "metadata": {},
   "outputs": [],
   "source": []
  },
  {
   "cell_type": "code",
   "execution_count": 667,
   "metadata": {},
   "outputs": [],
   "source": []
  },
  {
   "cell_type": "code",
   "execution_count": 670,
   "metadata": {},
   "outputs": [],
   "source": []
  },
  {
   "cell_type": "code",
   "execution_count": 672,
   "metadata": {},
   "outputs": [],
   "source": []
  }
 ],
 "metadata": {
  "kernelspec": {
   "display_name": "Python 3",
   "language": "python",
   "name": "python3"
  },
  "language_info": {
   "codemirror_mode": {
    "name": "ipython",
    "version": 3
   },
   "file_extension": ".py",
   "mimetype": "text/x-python",
   "name": "python",
   "nbconvert_exporter": "python",
   "pygments_lexer": "ipython3",
   "version": "3.8.3"
  }
 },
 "nbformat": 4,
 "nbformat_minor": 4
}
